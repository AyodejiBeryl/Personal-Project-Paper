{
 "cells": [
  {
   "cell_type": "code",
   "execution_count": 1,
   "id": "188e25b6",
   "metadata": {},
   "outputs": [],
   "source": [
    "import pandas as pd\n",
    "import numpy as np\n",
    "import seaborn as sns\n",
    "from matplotlib import pyplot as plt\n",
    "from datetime import datetime\n",
    "import time\n",
    "from sklearn.ensemble import ExtraTreesClassifier\n",
    "import operator\n",
    "from sklearn.tree import DecisionTreeClassifier\n",
    "from sklearn.preprocessing import StandardScaler"
   ]
  },
  {
   "cell_type": "markdown",
   "id": "a6d25002",
   "metadata": {},
   "source": [
    "## Importing the data"
   ]
  },
  {
   "cell_type": "code",
   "execution_count": 2,
   "id": "852dd3df",
   "metadata": {},
   "outputs": [],
   "source": [
    "import csv"
   ]
  },
  {
   "cell_type": "code",
   "execution_count": 3,
   "id": "acd25fc5",
   "metadata": {},
   "outputs": [
    {
     "data": {
      "text/html": [
       "<div>\n",
       "<style scoped>\n",
       "    .dataframe tbody tr th:only-of-type {\n",
       "        vertical-align: middle;\n",
       "    }\n",
       "\n",
       "    .dataframe tbody tr th {\n",
       "        vertical-align: top;\n",
       "    }\n",
       "\n",
       "    .dataframe thead th {\n",
       "        text-align: right;\n",
       "    }\n",
       "</style>\n",
       "<table border=\"1\" class=\"dataframe\">\n",
       "  <thead>\n",
       "    <tr style=\"text-align: right;\">\n",
       "      <th></th>\n",
       "      <th>DateTime</th>\n",
       "      <th>Junction</th>\n",
       "      <th>Vehicles</th>\n",
       "      <th>ID</th>\n",
       "    </tr>\n",
       "  </thead>\n",
       "  <tbody>\n",
       "    <tr>\n",
       "      <th>0</th>\n",
       "      <td>11/1/2015 0:00</td>\n",
       "      <td>1</td>\n",
       "      <td>15</td>\n",
       "      <td>20151101001</td>\n",
       "    </tr>\n",
       "    <tr>\n",
       "      <th>1</th>\n",
       "      <td>11/1/2015 1:00</td>\n",
       "      <td>1</td>\n",
       "      <td>13</td>\n",
       "      <td>20151101011</td>\n",
       "    </tr>\n",
       "    <tr>\n",
       "      <th>2</th>\n",
       "      <td>11/1/2015 2:00</td>\n",
       "      <td>1</td>\n",
       "      <td>10</td>\n",
       "      <td>20151101021</td>\n",
       "    </tr>\n",
       "    <tr>\n",
       "      <th>3</th>\n",
       "      <td>11/1/2015 3:00</td>\n",
       "      <td>1</td>\n",
       "      <td>7</td>\n",
       "      <td>20151101031</td>\n",
       "    </tr>\n",
       "    <tr>\n",
       "      <th>4</th>\n",
       "      <td>11/1/2015 4:00</td>\n",
       "      <td>1</td>\n",
       "      <td>9</td>\n",
       "      <td>20151101041</td>\n",
       "    </tr>\n",
       "  </tbody>\n",
       "</table>\n",
       "</div>"
      ],
      "text/plain": [
       "         DateTime  Junction  Vehicles           ID\n",
       "0  11/1/2015 0:00         1        15  20151101001\n",
       "1  11/1/2015 1:00         1        13  20151101011\n",
       "2  11/1/2015 2:00         1        10  20151101021\n",
       "3  11/1/2015 3:00         1         7  20151101031\n",
       "4  11/1/2015 4:00         1         9  20151101041"
      ]
     },
     "execution_count": 3,
     "metadata": {},
     "output_type": "execute_result"
    }
   ],
   "source": [
    "data = r\"C:\\Users\\ayode\\Transport data\\train_aWnotuB.csv\"\n",
    "data = pd.read_csv(data)\n",
    "data.head()"
   ]
  },
  {
   "cell_type": "code",
   "execution_count": 4,
   "id": "9b8e1514",
   "metadata": {},
   "outputs": [
    {
     "data": {
      "text/plain": [
       "Index(['DateTime', 'Junction', 'Vehicles', 'ID'], dtype='object')"
      ]
     },
     "execution_count": 4,
     "metadata": {},
     "output_type": "execute_result"
    }
   ],
   "source": [
    "#Checking the number of columns in the data\n",
    "data.columns"
   ]
  },
  {
   "cell_type": "markdown",
   "id": "8f8de1be",
   "metadata": {},
   "source": [
    "## Exploring the data to gain more insight"
   ]
  },
  {
   "cell_type": "code",
   "execution_count": 5,
   "id": "d2a591df",
   "metadata": {},
   "outputs": [
    {
     "name": "stdout",
     "output_type": "stream",
     "text": [
      "<class 'pandas.core.frame.DataFrame'>\n",
      "RangeIndex: 48120 entries, 0 to 48119\n",
      "Data columns (total 4 columns):\n",
      " #   Column    Non-Null Count  Dtype \n",
      "---  ------    --------------  ----- \n",
      " 0   DateTime  48120 non-null  object\n",
      " 1   Junction  48120 non-null  int64 \n",
      " 2   Vehicles  48120 non-null  int64 \n",
      " 3   ID        48120 non-null  int64 \n",
      "dtypes: int64(3), object(1)\n",
      "memory usage: 1.5+ MB\n"
     ]
    }
   ],
   "source": [
    "#getting a quick description of the data\n",
    "data.info()"
   ]
  },
  {
   "cell_type": "code",
   "execution_count": 6,
   "id": "8cec4ecd",
   "metadata": {},
   "outputs": [
    {
     "data": {
      "text/html": [
       "<div>\n",
       "<style scoped>\n",
       "    .dataframe tbody tr th:only-of-type {\n",
       "        vertical-align: middle;\n",
       "    }\n",
       "\n",
       "    .dataframe tbody tr th {\n",
       "        vertical-align: top;\n",
       "    }\n",
       "\n",
       "    .dataframe thead th {\n",
       "        text-align: right;\n",
       "    }\n",
       "</style>\n",
       "<table border=\"1\" class=\"dataframe\">\n",
       "  <thead>\n",
       "    <tr style=\"text-align: right;\">\n",
       "      <th></th>\n",
       "      <th>Junction</th>\n",
       "      <th>Vehicles</th>\n",
       "      <th>ID</th>\n",
       "    </tr>\n",
       "  </thead>\n",
       "  <tbody>\n",
       "    <tr>\n",
       "      <th>count</th>\n",
       "      <td>48120.000000</td>\n",
       "      <td>48120.000000</td>\n",
       "      <td>4.812000e+04</td>\n",
       "    </tr>\n",
       "    <tr>\n",
       "      <th>mean</th>\n",
       "      <td>2.180549</td>\n",
       "      <td>22.791334</td>\n",
       "      <td>2.016330e+10</td>\n",
       "    </tr>\n",
       "    <tr>\n",
       "      <th>std</th>\n",
       "      <td>0.966955</td>\n",
       "      <td>20.750063</td>\n",
       "      <td>5.944854e+06</td>\n",
       "    </tr>\n",
       "    <tr>\n",
       "      <th>min</th>\n",
       "      <td>1.000000</td>\n",
       "      <td>1.000000</td>\n",
       "      <td>2.015110e+10</td>\n",
       "    </tr>\n",
       "    <tr>\n",
       "      <th>25%</th>\n",
       "      <td>1.000000</td>\n",
       "      <td>9.000000</td>\n",
       "      <td>2.016042e+10</td>\n",
       "    </tr>\n",
       "    <tr>\n",
       "      <th>50%</th>\n",
       "      <td>2.000000</td>\n",
       "      <td>15.000000</td>\n",
       "      <td>2.016093e+10</td>\n",
       "    </tr>\n",
       "    <tr>\n",
       "      <th>75%</th>\n",
       "      <td>3.000000</td>\n",
       "      <td>29.000000</td>\n",
       "      <td>2.017023e+10</td>\n",
       "    </tr>\n",
       "    <tr>\n",
       "      <th>max</th>\n",
       "      <td>4.000000</td>\n",
       "      <td>180.000000</td>\n",
       "      <td>2.017063e+10</td>\n",
       "    </tr>\n",
       "  </tbody>\n",
       "</table>\n",
       "</div>"
      ],
      "text/plain": [
       "           Junction      Vehicles            ID\n",
       "count  48120.000000  48120.000000  4.812000e+04\n",
       "mean       2.180549     22.791334  2.016330e+10\n",
       "std        0.966955     20.750063  5.944854e+06\n",
       "min        1.000000      1.000000  2.015110e+10\n",
       "25%        1.000000      9.000000  2.016042e+10\n",
       "50%        2.000000     15.000000  2.016093e+10\n",
       "75%        3.000000     29.000000  2.017023e+10\n",
       "max        4.000000    180.000000  2.017063e+10"
      ]
     },
     "execution_count": 6,
     "metadata": {},
     "output_type": "execute_result"
    }
   ],
   "source": [
    "#checking for the summary of each numerical attribute\n",
    "data.describe()"
   ]
  },
  {
   "cell_type": "code",
   "execution_count": 7,
   "id": "128561bf",
   "metadata": {},
   "outputs": [
    {
     "data": {
      "text/plain": [
       "array([[<AxesSubplot:title={'center':'Junction'}>,\n",
       "        <AxesSubplot:title={'center':'Vehicles'}>],\n",
       "       [<AxesSubplot:title={'center':'ID'}>, <AxesSubplot:>]],\n",
       "      dtype=object)"
      ]
     },
     "execution_count": 7,
     "metadata": {},
     "output_type": "execute_result"
    },
    {
     "data": {
      "image/png": "[encoded data removed]",
      "text/plain": [
       "<Figure size 1440x1080 with 4 Axes>"
      ]
     },
     "metadata": {
      "needs_background": "light"
     },
     "output_type": "display_data"
    }
   ],
   "source": [
    "#plotting a histogram for each numerical attribute\n",
    "data.hist(bins=50, figsize=(20,15))"
   ]
  },
  {
   "cell_type": "code",
   "execution_count": 8,
   "id": "eadea8a6",
   "metadata": {
    "scrolled": true
   },
   "outputs": [
    {
     "data": {
      "text/html": [
       "<div>\n",
       "<style scoped>\n",
       "    .dataframe tbody tr th:only-of-type {\n",
       "        vertical-align: middle;\n",
       "    }\n",
       "\n",
       "    .dataframe tbody tr th {\n",
       "        vertical-align: top;\n",
       "    }\n",
       "\n",
       "    .dataframe thead th {\n",
       "        text-align: right;\n",
       "    }\n",
       "</style>\n",
       "<table border=\"1\" class=\"dataframe\">\n",
       "  <thead>\n",
       "    <tr style=\"text-align: right;\">\n",
       "      <th></th>\n",
       "      <th>DateTime</th>\n",
       "      <th>Junction</th>\n",
       "      <th>Vehicles</th>\n",
       "      <th>ID</th>\n",
       "    </tr>\n",
       "  </thead>\n",
       "  <tbody>\n",
       "    <tr>\n",
       "      <th>0</th>\n",
       "      <td>11/1/2015 0:00</td>\n",
       "      <td>1</td>\n",
       "      <td>15</td>\n",
       "      <td>20151101001</td>\n",
       "    </tr>\n",
       "    <tr>\n",
       "      <th>1</th>\n",
       "      <td>11/1/2015 1:00</td>\n",
       "      <td>1</td>\n",
       "      <td>13</td>\n",
       "      <td>20151101011</td>\n",
       "    </tr>\n",
       "    <tr>\n",
       "      <th>2</th>\n",
       "      <td>11/1/2015 2:00</td>\n",
       "      <td>1</td>\n",
       "      <td>10</td>\n",
       "      <td>20151101021</td>\n",
       "    </tr>\n",
       "    <tr>\n",
       "      <th>3</th>\n",
       "      <td>11/1/2015 3:00</td>\n",
       "      <td>1</td>\n",
       "      <td>7</td>\n",
       "      <td>20151101031</td>\n",
       "    </tr>\n",
       "    <tr>\n",
       "      <th>4</th>\n",
       "      <td>11/1/2015 4:00</td>\n",
       "      <td>1</td>\n",
       "      <td>9</td>\n",
       "      <td>20151101041</td>\n",
       "    </tr>\n",
       "    <tr>\n",
       "      <th>...</th>\n",
       "      <td>...</td>\n",
       "      <td>...</td>\n",
       "      <td>...</td>\n",
       "      <td>...</td>\n",
       "    </tr>\n",
       "    <tr>\n",
       "      <th>48115</th>\n",
       "      <td>6/30/2017 19:00</td>\n",
       "      <td>4</td>\n",
       "      <td>11</td>\n",
       "      <td>20170630194</td>\n",
       "    </tr>\n",
       "    <tr>\n",
       "      <th>48116</th>\n",
       "      <td>6/30/2017 20:00</td>\n",
       "      <td>4</td>\n",
       "      <td>30</td>\n",
       "      <td>20170630204</td>\n",
       "    </tr>\n",
       "    <tr>\n",
       "      <th>48117</th>\n",
       "      <td>6/30/2017 21:00</td>\n",
       "      <td>4</td>\n",
       "      <td>16</td>\n",
       "      <td>20170630214</td>\n",
       "    </tr>\n",
       "    <tr>\n",
       "      <th>48118</th>\n",
       "      <td>6/30/2017 22:00</td>\n",
       "      <td>4</td>\n",
       "      <td>22</td>\n",
       "      <td>20170630224</td>\n",
       "    </tr>\n",
       "    <tr>\n",
       "      <th>48119</th>\n",
       "      <td>6/30/2017 23:00</td>\n",
       "      <td>4</td>\n",
       "      <td>12</td>\n",
       "      <td>20170630234</td>\n",
       "    </tr>\n",
       "  </tbody>\n",
       "</table>\n",
       "<p>48120 rows × 4 columns</p>\n",
       "</div>"
      ],
      "text/plain": [
       "              DateTime  Junction  Vehicles           ID\n",
       "0       11/1/2015 0:00         1        15  20151101001\n",
       "1       11/1/2015 1:00         1        13  20151101011\n",
       "2       11/1/2015 2:00         1        10  20151101021\n",
       "3       11/1/2015 3:00         1         7  20151101031\n",
       "4       11/1/2015 4:00         1         9  20151101041\n",
       "...                ...       ...       ...          ...\n",
       "48115  6/30/2017 19:00         4        11  20170630194\n",
       "48116  6/30/2017 20:00         4        30  20170630204\n",
       "48117  6/30/2017 21:00         4        16  20170630214\n",
       "48118  6/30/2017 22:00         4        22  20170630224\n",
       "48119  6/30/2017 23:00         4        12  20170630234\n",
       "\n",
       "[48120 rows x 4 columns]"
      ]
     },
     "execution_count": 8,
     "metadata": {},
     "output_type": "execute_result"
    }
   ],
   "source": [
    "#creating a  copy of the train dataset\n",
    "copydata = data.copy()\n",
    "copydata"
   ]
  },
  {
   "cell_type": "markdown",
   "id": "e3b1ee46",
   "metadata": {},
   "source": [
    "## Splitting data into Train and Test data"
   ]
  },
  {
   "cell_type": "code",
   "execution_count": null,
   "id": "aa6b74be",
   "metadata": {},
   "outputs": [],
   "source": [
    "def split_train_test(copydata, test_ratio):\n",
    "    shuffled_indices = np.random.permutation(len(copydata))\n",
    "    test_set_size = int(len(copydata) * test_ratio)\n",
    "    test_indices = shuffled_indices[:test_set_size]\n",
    "    train_indices = shuffled_indices[test_set_size:]\n",
    "    return copydata.iloc[train_indices], copydata.iloc[test_indices]"
   ]
  },
  {
   "cell_type": "code",
   "execution_count": 10,
   "id": "80727301",
   "metadata": {},
   "outputs": [
    {
     "name": "stdout",
     "output_type": "stream",
     "text": [
      "38496 train + 9624 test\n"
     ]
    }
   ],
   "source": [
    "train_set, test_set = split_train_test(copydata, 0.2)\n",
    "print(len(train_set), \"train +\", len(test_set), \"test\")"
   ]
  },
  {
   "cell_type": "code",
   "execution_count": 59,
   "id": "278285d2",
   "metadata": {},
   "outputs": [],
   "source": [
    "from sklearn.model_selection import train_test_split\n",
    "\n",
    "train_set, test_set = train_test_split(copydata, test_size=0.2, random_state=42)"
   ]
  },
  {
   "cell_type": "code",
   "execution_count": 60,
   "id": "76d3bb72",
   "metadata": {},
   "outputs": [
    {
     "data": {
      "text/html": [
       "<div>\n",
       "<style scoped>\n",
       "    .dataframe tbody tr th:only-of-type {\n",
       "        vertical-align: middle;\n",
       "    }\n",
       "\n",
       "    .dataframe tbody tr th {\n",
       "        vertical-align: top;\n",
       "    }\n",
       "\n",
       "    .dataframe thead th {\n",
       "        text-align: right;\n",
       "    }\n",
       "</style>\n",
       "<table border=\"1\" class=\"dataframe\">\n",
       "  <thead>\n",
       "    <tr style=\"text-align: right;\">\n",
       "      <th></th>\n",
       "      <th>Junction</th>\n",
       "      <th>Vehicles</th>\n",
       "      <th>ID</th>\n",
       "      <th>DateTime_year</th>\n",
       "      <th>DateTime_month</th>\n",
       "      <th>DateTime_hour</th>\n",
       "    </tr>\n",
       "  </thead>\n",
       "  <tbody>\n",
       "    <tr>\n",
       "      <th>24632</th>\n",
       "      <td>2</td>\n",
       "      <td>9</td>\n",
       "      <td>20161223082</td>\n",
       "      <td>2016</td>\n",
       "      <td>12</td>\n",
       "      <td>8</td>\n",
       "    </tr>\n",
       "    <tr>\n",
       "      <th>36428</th>\n",
       "      <td>3</td>\n",
       "      <td>97</td>\n",
       "      <td>20160828203</td>\n",
       "      <td>2016</td>\n",
       "      <td>8</td>\n",
       "      <td>20</td>\n",
       "    </tr>\n",
       "    <tr>\n",
       "      <th>42150</th>\n",
       "      <td>3</td>\n",
       "      <td>13</td>\n",
       "      <td>20170424063</td>\n",
       "      <td>2017</td>\n",
       "      <td>4</td>\n",
       "      <td>6</td>\n",
       "    </tr>\n",
       "    <tr>\n",
       "      <th>23885</th>\n",
       "      <td>2</td>\n",
       "      <td>11</td>\n",
       "      <td>20161122052</td>\n",
       "      <td>2016</td>\n",
       "      <td>11</td>\n",
       "      <td>5</td>\n",
       "    </tr>\n",
       "    <tr>\n",
       "      <th>2174</th>\n",
       "      <td>1</td>\n",
       "      <td>24</td>\n",
       "      <td>20160130141</td>\n",
       "      <td>2016</td>\n",
       "      <td>1</td>\n",
       "      <td>14</td>\n",
       "    </tr>\n",
       "  </tbody>\n",
       "</table>\n",
       "</div>"
      ],
      "text/plain": [
       "       Junction  Vehicles           ID  DateTime_year  DateTime_month  \\\n",
       "24632         2         9  20161223082           2016              12   \n",
       "36428         3        97  20160828203           2016               8   \n",
       "42150         3        13  20170424063           2017               4   \n",
       "23885         2        11  20161122052           2016              11   \n",
       "2174          1        24  20160130141           2016               1   \n",
       "\n",
       "       DateTime_hour  \n",
       "24632              8  \n",
       "36428             20  \n",
       "42150              6  \n",
       "23885              5  \n",
       "2174              14  "
      ]
     },
     "execution_count": 60,
     "metadata": {},
     "output_type": "execute_result"
    }
   ],
   "source": [
    "test_set.head()"
   ]
  },
  {
   "cell_type": "markdown",
   "id": "27ba73d4",
   "metadata": {},
   "source": [
    "## Visualizing the data"
   ]
  },
  {
   "cell_type": "code",
   "execution_count": 11,
   "id": "f2776598",
   "metadata": {},
   "outputs": [
    {
     "data": {
      "text/plain": [
       "<AxesSubplot:xlabel='Vehicles', ylabel='Junction'>"
      ]
     },
     "execution_count": 11,
     "metadata": {},
     "output_type": "execute_result"
    },
    {
     "data": {
      "image/png": "[encoded data removed]",
      "text/plain": [
       "<Figure size 432x288 with 1 Axes>"
      ]
     },
     "metadata": {
      "needs_background": "light"
     },
     "output_type": "display_data"
    }
   ],
   "source": [
    "#visualizing the dataset using scatterplot, highlighting high-density areas\n",
    "copydata.plot(kind=\"scatter\", x=\"Vehicles\", y=\"Junction\", alpha=0.1)"
   ]
  },
  {
   "cell_type": "code",
   "execution_count": 12,
   "id": "c0055a18",
   "metadata": {},
   "outputs": [
    {
     "data": {
      "text/plain": [
       "<matplotlib.legend.Legend at 0x22427f91910>"
      ]
     },
     "execution_count": 12,
     "metadata": {},
     "output_type": "execute_result"
    },
    {
     "data": {
      "image/png": "[encoded data removed]",
      "text/plain": [
       "<Figure size 720x504 with 2 Axes>"
      ]
     },
     "metadata": {
      "needs_background": "light"
     },
     "output_type": "display_data"
    }
   ],
   "source": [
    "copydata.plot(kind=\"scatter\", x=\"Vehicles\", y=\"Junction\", alpha=0.4,\n",
    "s=copydata[\"Junction\"]/100, label=\"Vehicles\", figsize=(10,7), cmap=plt.get_cmap(\"jet\"), colorbar=True,\n",
    ")\n",
    "plt.legend()"
   ]
  },
  {
   "cell_type": "markdown",
   "id": "451284a8",
   "metadata": {},
   "source": [
    "## Checking for correlation"
   ]
  },
  {
   "cell_type": "code",
   "execution_count": 13,
   "id": "33c91ceb",
   "metadata": {},
   "outputs": [],
   "source": [
    "#Looking for correlation\n",
    "corr_matrix = copydata.corr()"
   ]
  },
  {
   "cell_type": "code",
   "execution_count": 14,
   "id": "b2a97b3b",
   "metadata": {},
   "outputs": [
    {
     "data": {
      "text/plain": [
       "Junction    1.000000\n",
       "ID          0.221876\n",
       "Vehicles   -0.613787\n",
       "Name: Junction, dtype: float64"
      ]
     },
     "execution_count": 14,
     "metadata": {},
     "output_type": "execute_result"
    }
   ],
   "source": [
    "#correlating other attributes with the Junctions\n",
    "corr_matrix[\"Junction\"].sort_values(ascending=False)"
   ]
  },
  {
   "cell_type": "code",
   "execution_count": 15,
   "id": "6b78873a",
   "metadata": {},
   "outputs": [
    {
     "data": {
      "text/plain": [
       "array([[<AxesSubplot:xlabel='Junction', ylabel='Junction'>,\n",
       "        <AxesSubplot:xlabel='Vehicles', ylabel='Junction'>,\n",
       "        <AxesSubplot:xlabel='ID', ylabel='Junction'>],\n",
       "       [<AxesSubplot:xlabel='Junction', ylabel='Vehicles'>,\n",
       "        <AxesSubplot:xlabel='Vehicles', ylabel='Vehicles'>,\n",
       "        <AxesSubplot:xlabel='ID', ylabel='Vehicles'>],\n",
       "       [<AxesSubplot:xlabel='Junction', ylabel='ID'>,\n",
       "        <AxesSubplot:xlabel='Vehicles', ylabel='ID'>,\n",
       "        <AxesSubplot:xlabel='ID', ylabel='ID'>]], dtype=object)"
      ]
     },
     "execution_count": 15,
     "metadata": {},
     "output_type": "execute_result"
    },
    {
     "data": {
      "image/png": "[encoded data removed]",
      "text/plain": [
       "<Figure size 864x576 with 9 Axes>"
      ]
     },
     "metadata": {
      "needs_background": "light"
     },
     "output_type": "display_data"
    }
   ],
   "source": [
    "#another way to check for correlation between attribute is using pandas scatter matric=x function\n",
    "from pandas.plotting import scatter_matrix\n",
    "attributes = [\"DateTime\", \"Junction\", \"Vehicles\", \"ID\"] \n",
    "scatter_matrix(copydata[attributes], figsize=(12, 8))"
   ]
  },
  {
   "cell_type": "markdown",
   "id": "6a1f04a8",
   "metadata": {},
   "source": [
    "## Checking for duplicates and null values"
   ]
  },
  {
   "cell_type": "code",
   "execution_count": 16,
   "id": "b4b0fad5",
   "metadata": {},
   "outputs": [
    {
     "name": "stdout",
     "output_type": "stream",
     "text": [
      "there are 0 duplicated rows in the dataframe.\n"
     ]
    }
   ],
   "source": [
    "#Checking for duplicate rows\n",
    "dupRows = data.duplicated().sum()\n",
    "print(\"there are \" + str(dupRows) + \" duplicated rows in the dataframe.\")"
   ]
  },
  {
   "cell_type": "code",
   "execution_count": 17,
   "id": "71b94db7",
   "metadata": {},
   "outputs": [
    {
     "data": {
      "text/plain": [
       "DateTime    0\n",
       "Junction    0\n",
       "Vehicles    0\n",
       "ID          0\n",
       "dtype: int64"
      ]
     },
     "execution_count": 17,
     "metadata": {},
     "output_type": "execute_result"
    }
   ],
   "source": [
    "#checking for null data \n",
    "data.isnull().sum()"
   ]
  },
  {
   "cell_type": "code",
   "execution_count": 18,
   "id": "1df2fd6e",
   "metadata": {},
   "outputs": [],
   "source": [
    "#Decomposing the time series\n",
    "copydata['DateTime'] = pd.to_datetime(copydata['DateTime'], format='%m/%d/%Y %H:%M')"
   ]
  },
  {
   "cell_type": "code",
   "execution_count": 20,
   "id": "ba687fac",
   "metadata": {},
   "outputs": [
    {
     "data": {
      "text/html": [
       "<div>\n",
       "<style scoped>\n",
       "    .dataframe tbody tr th:only-of-type {\n",
       "        vertical-align: middle;\n",
       "    }\n",
       "\n",
       "    .dataframe tbody tr th {\n",
       "        vertical-align: top;\n",
       "    }\n",
       "\n",
       "    .dataframe thead th {\n",
       "        text-align: right;\n",
       "    }\n",
       "</style>\n",
       "<table border=\"1\" class=\"dataframe\">\n",
       "  <thead>\n",
       "    <tr style=\"text-align: right;\">\n",
       "      <th></th>\n",
       "      <th>DateTime</th>\n",
       "      <th>Junction</th>\n",
       "      <th>Vehicles</th>\n",
       "      <th>ID</th>\n",
       "      <th>DateTime_year</th>\n",
       "      <th>DateTime_month</th>\n",
       "      <th>DateTime_day</th>\n",
       "      <th>DateTime_hour</th>\n",
       "      <th>DateTime_minute</th>\n",
       "      <th>DateTime_sec</th>\n",
       "    </tr>\n",
       "  </thead>\n",
       "  <tbody>\n",
       "    <tr>\n",
       "      <th>0</th>\n",
       "      <td>2015-11-01 00:00:00</td>\n",
       "      <td>1</td>\n",
       "      <td>15</td>\n",
       "      <td>20151101001</td>\n",
       "      <td>2015</td>\n",
       "      <td>11</td>\n",
       "      <td>1</td>\n",
       "      <td>0</td>\n",
       "      <td>0</td>\n",
       "      <td>0</td>\n",
       "    </tr>\n",
       "    <tr>\n",
       "      <th>1</th>\n",
       "      <td>2015-11-01 01:00:00</td>\n",
       "      <td>1</td>\n",
       "      <td>13</td>\n",
       "      <td>20151101011</td>\n",
       "      <td>2015</td>\n",
       "      <td>11</td>\n",
       "      <td>1</td>\n",
       "      <td>1</td>\n",
       "      <td>0</td>\n",
       "      <td>0</td>\n",
       "    </tr>\n",
       "    <tr>\n",
       "      <th>2</th>\n",
       "      <td>2015-11-01 02:00:00</td>\n",
       "      <td>1</td>\n",
       "      <td>10</td>\n",
       "      <td>20151101021</td>\n",
       "      <td>2015</td>\n",
       "      <td>11</td>\n",
       "      <td>1</td>\n",
       "      <td>2</td>\n",
       "      <td>0</td>\n",
       "      <td>0</td>\n",
       "    </tr>\n",
       "    <tr>\n",
       "      <th>3</th>\n",
       "      <td>2015-11-01 03:00:00</td>\n",
       "      <td>1</td>\n",
       "      <td>7</td>\n",
       "      <td>20151101031</td>\n",
       "      <td>2015</td>\n",
       "      <td>11</td>\n",
       "      <td>1</td>\n",
       "      <td>3</td>\n",
       "      <td>0</td>\n",
       "      <td>0</td>\n",
       "    </tr>\n",
       "    <tr>\n",
       "      <th>4</th>\n",
       "      <td>2015-11-01 04:00:00</td>\n",
       "      <td>1</td>\n",
       "      <td>9</td>\n",
       "      <td>20151101041</td>\n",
       "      <td>2015</td>\n",
       "      <td>11</td>\n",
       "      <td>1</td>\n",
       "      <td>4</td>\n",
       "      <td>0</td>\n",
       "      <td>0</td>\n",
       "    </tr>\n",
       "    <tr>\n",
       "      <th>...</th>\n",
       "      <td>...</td>\n",
       "      <td>...</td>\n",
       "      <td>...</td>\n",
       "      <td>...</td>\n",
       "      <td>...</td>\n",
       "      <td>...</td>\n",
       "      <td>...</td>\n",
       "      <td>...</td>\n",
       "      <td>...</td>\n",
       "      <td>...</td>\n",
       "    </tr>\n",
       "    <tr>\n",
       "      <th>48115</th>\n",
       "      <td>2017-06-30 19:00:00</td>\n",
       "      <td>4</td>\n",
       "      <td>11</td>\n",
       "      <td>20170630194</td>\n",
       "      <td>2017</td>\n",
       "      <td>6</td>\n",
       "      <td>30</td>\n",
       "      <td>19</td>\n",
       "      <td>0</td>\n",
       "      <td>0</td>\n",
       "    </tr>\n",
       "    <tr>\n",
       "      <th>48116</th>\n",
       "      <td>2017-06-30 20:00:00</td>\n",
       "      <td>4</td>\n",
       "      <td>30</td>\n",
       "      <td>20170630204</td>\n",
       "      <td>2017</td>\n",
       "      <td>6</td>\n",
       "      <td>30</td>\n",
       "      <td>20</td>\n",
       "      <td>0</td>\n",
       "      <td>0</td>\n",
       "    </tr>\n",
       "    <tr>\n",
       "      <th>48117</th>\n",
       "      <td>2017-06-30 21:00:00</td>\n",
       "      <td>4</td>\n",
       "      <td>16</td>\n",
       "      <td>20170630214</td>\n",
       "      <td>2017</td>\n",
       "      <td>6</td>\n",
       "      <td>30</td>\n",
       "      <td>21</td>\n",
       "      <td>0</td>\n",
       "      <td>0</td>\n",
       "    </tr>\n",
       "    <tr>\n",
       "      <th>48118</th>\n",
       "      <td>2017-06-30 22:00:00</td>\n",
       "      <td>4</td>\n",
       "      <td>22</td>\n",
       "      <td>20170630224</td>\n",
       "      <td>2017</td>\n",
       "      <td>6</td>\n",
       "      <td>30</td>\n",
       "      <td>22</td>\n",
       "      <td>0</td>\n",
       "      <td>0</td>\n",
       "    </tr>\n",
       "    <tr>\n",
       "      <th>48119</th>\n",
       "      <td>2017-06-30 23:00:00</td>\n",
       "      <td>4</td>\n",
       "      <td>12</td>\n",
       "      <td>20170630234</td>\n",
       "      <td>2017</td>\n",
       "      <td>6</td>\n",
       "      <td>30</td>\n",
       "      <td>23</td>\n",
       "      <td>0</td>\n",
       "      <td>0</td>\n",
       "    </tr>\n",
       "  </tbody>\n",
       "</table>\n",
       "<p>48120 rows × 10 columns</p>\n",
       "</div>"
      ],
      "text/plain": [
       "                 DateTime  Junction  Vehicles           ID  DateTime_year  \\\n",
       "0     2015-11-01 00:00:00         1        15  20151101001           2015   \n",
       "1     2015-11-01 01:00:00         1        13  20151101011           2015   \n",
       "2     2015-11-01 02:00:00         1        10  20151101021           2015   \n",
       "3     2015-11-01 03:00:00         1         7  20151101031           2015   \n",
       "4     2015-11-01 04:00:00         1         9  20151101041           2015   \n",
       "...                   ...       ...       ...          ...            ...   \n",
       "48115 2017-06-30 19:00:00         4        11  20170630194           2017   \n",
       "48116 2017-06-30 20:00:00         4        30  20170630204           2017   \n",
       "48117 2017-06-30 21:00:00         4        16  20170630214           2017   \n",
       "48118 2017-06-30 22:00:00         4        22  20170630224           2017   \n",
       "48119 2017-06-30 23:00:00         4        12  20170630234           2017   \n",
       "\n",
       "       DateTime_month  DateTime_day  DateTime_hour  DateTime_minute  \\\n",
       "0                  11             1              0                0   \n",
       "1                  11             1              1                0   \n",
       "2                  11             1              2                0   \n",
       "3                  11             1              3                0   \n",
       "4                  11             1              4                0   \n",
       "...               ...           ...            ...              ...   \n",
       "48115               6            30             19                0   \n",
       "48116               6            30             20                0   \n",
       "48117               6            30             21                0   \n",
       "48118               6            30             22                0   \n",
       "48119               6            30             23                0   \n",
       "\n",
       "       DateTime_sec  \n",
       "0                 0  \n",
       "1                 0  \n",
       "2                 0  \n",
       "3                 0  \n",
       "4                 0  \n",
       "...             ...  \n",
       "48115             0  \n",
       "48116             0  \n",
       "48117             0  \n",
       "48118             0  \n",
       "48119             0  \n",
       "\n",
       "[48120 rows x 10 columns]"
      ]
     },
     "execution_count": 20,
     "metadata": {},
     "output_type": "execute_result"
    }
   ],
   "source": [
    "copydata['DateTime_year'] = copydata['DateTime'].dt.year\n",
    "copydata['DateTime_month'] = copydata['DateTime'].dt.month\n",
    "copydata['DateTime_day'] = copydata['DateTime'].dt.day\n",
    "copydata['DateTime_hour'] = copydata['DateTime'].dt.hour\n",
    "copydata['DateTime_minute'] = copydata['DateTime'].dt.minute\n",
    "copydata['DateTime_sec'] = copydata['DateTime'].dt.second\n",
    "copydata"
   ]
  },
  {
   "cell_type": "code",
   "execution_count": 21,
   "id": "d60571cf",
   "metadata": {},
   "outputs": [],
   "source": [
    "copydata.drop(['DateTime','DateTime_minute', 'DateTime_sec','DateTime_day'], axis = 1, inplace = True)"
   ]
  },
  {
   "cell_type": "code",
   "execution_count": 23,
   "id": "3288cc15",
   "metadata": {},
   "outputs": [],
   "source": [
    "data = copydata.copy()"
   ]
  },
  {
   "cell_type": "code",
   "execution_count": 24,
   "id": "d1dacff1",
   "metadata": {},
   "outputs": [
    {
     "name": "stdout",
     "output_type": "stream",
     "text": [
      "<class 'pandas.core.frame.DataFrame'>\n",
      "RangeIndex: 48120 entries, 0 to 48119\n",
      "Data columns (total 6 columns):\n",
      " #   Column          Non-Null Count  Dtype\n",
      "---  ------          --------------  -----\n",
      " 0   Junction        48120 non-null  int64\n",
      " 1   Vehicles        48120 non-null  int64\n",
      " 2   ID              48120 non-null  int64\n",
      " 3   DateTime_year   48120 non-null  int64\n",
      " 4   DateTime_month  48120 non-null  int64\n",
      " 5   DateTime_hour   48120 non-null  int64\n",
      "dtypes: int64(6)\n",
      "memory usage: 2.2 MB\n"
     ]
    }
   ],
   "source": [
    "copydata.info()"
   ]
  },
  {
   "cell_type": "code",
   "execution_count": 62,
   "id": "89ca7469",
   "metadata": {},
   "outputs": [],
   "source": [
    "from sklearn.pipeline import Pipeline\n"
   ]
  },
  {
   "cell_type": "markdown",
   "id": "48396134",
   "metadata": {},
   "source": [
    "## Building Models"
   ]
  },
  {
   "cell_type": "code",
   "execution_count": 25,
   "id": "e81a424f",
   "metadata": {},
   "outputs": [],
   "source": [
    "data = copydata.drop(\"Junction\", axis=1)\n",
    "data_labels = copydata[\"Junction\"].copy()"
   ]
  },
  {
   "cell_type": "code",
   "execution_count": 26,
   "id": "4b2de41e",
   "metadata": {},
   "outputs": [],
   "source": [
    "#Declaring Variables\n",
    "y = copydata[\"Junction\"]\n",
    "x = copydata.drop(columns='Junction')"
   ]
  },
  {
   "cell_type": "code",
   "execution_count": 27,
   "id": "23a744ff",
   "metadata": {},
   "outputs": [],
   "source": [
    "X_train = copydata.drop(\"Junction\", axis= 1)\n",
    "y_train = copydata[\"Junction\"]"
   ]
  },
  {
   "cell_type": "markdown",
   "id": "3d7f4364",
   "metadata": {},
   "source": [
    "## Linear Regression Model"
   ]
  },
  {
   "cell_type": "code",
   "execution_count": 28,
   "id": "5da8717a",
   "metadata": {},
   "outputs": [],
   "source": [
    "from sklearn.linear_model import LinearRegression"
   ]
  },
  {
   "cell_type": "code",
   "execution_count": 29,
   "id": "d3cc7d44",
   "metadata": {},
   "outputs": [
    {
     "data": {
      "text/plain": [
       "LinearRegression()"
      ]
     },
     "execution_count": 29,
     "metadata": {},
     "output_type": "execute_result"
    }
   ],
   "source": [
    "model = LinearRegression()\n",
    "model.fit(X_train, y_train)"
   ]
  },
  {
   "cell_type": "code",
   "execution_count": 30,
   "id": "8f143150",
   "metadata": {},
   "outputs": [],
   "source": [
    "predicted_values = model.predict(X_train)"
   ]
  },
  {
   "cell_type": "code",
   "execution_count": 31,
   "id": "21686bf6",
   "metadata": {},
   "outputs": [
    {
     "data": {
      "text/plain": [
       "0.5522162358238758"
      ]
     },
     "execution_count": 31,
     "metadata": {},
     "output_type": "execute_result"
    }
   ],
   "source": [
    "#calculating the linear regression score\n",
    "model.score(X_train, y_train)"
   ]
  },
  {
   "cell_type": "code",
   "execution_count": 32,
   "id": "3ca40902",
   "metadata": {},
   "outputs": [
    {
     "name": "stdout",
     "output_type": "stream",
     "text": [
      "Predictions: [1.40249236 1.4961695  1.62507312 1.75397673 1.70674796]\n"
     ]
    }
   ],
   "source": [
    "#Trying a few instances on the training set\n",
    "some_data = X_train.iloc[:5]\n",
    "some_labels = y_train.iloc[:5]\n",
    "print(\"Predictions:\", model.predict(some_data))"
   ]
  },
  {
   "cell_type": "code",
   "execution_count": 33,
   "id": "f2285881",
   "metadata": {},
   "outputs": [
    {
     "name": "stdout",
     "output_type": "stream",
     "text": [
      "Labels: [1, 1, 1, 1, 1]\n"
     ]
    }
   ],
   "source": [
    "print(\"Labels:\", list(some_labels))"
   ]
  },
  {
   "cell_type": "markdown",
   "id": "5e72a01d",
   "metadata": {},
   "source": [
    "## Measuring RMSE of the regression model"
   ]
  },
  {
   "cell_type": "code",
   "execution_count": 34,
   "id": "205498c0",
   "metadata": {},
   "outputs": [
    {
     "data": {
      "text/plain": [
       "0.647047382127258"
      ]
     },
     "execution_count": 34,
     "metadata": {},
     "output_type": "execute_result"
    }
   ],
   "source": [
    "#Measuring the regression model's RMSE on the train data\n",
    "from sklearn.metrics import mean_squared_error\n",
    "traffic_predictions = model.predict(X_train)\n",
    "lin_mse = mean_squared_error(y_train, traffic_predictions)\n",
    "lin_rmse = np.sqrt(lin_mse)\n",
    "lin_rmse"
   ]
  },
  {
   "cell_type": "markdown",
   "id": "e3a443de",
   "metadata": {},
   "source": [
    "## Decision Tree Regressor"
   ]
  },
  {
   "cell_type": "code",
   "execution_count": 35,
   "id": "17115c40",
   "metadata": {},
   "outputs": [],
   "source": [
    "from sklearn.tree import DecisionTreeRegressor"
   ]
  },
  {
   "cell_type": "code",
   "execution_count": 36,
   "id": "56f0660c",
   "metadata": {},
   "outputs": [
    {
     "data": {
      "text/plain": [
       "DecisionTreeRegressor()"
      ]
     },
     "execution_count": 36,
     "metadata": {},
     "output_type": "execute_result"
    }
   ],
   "source": [
    "tree_reg = DecisionTreeRegressor()\n",
    "tree_reg.fit(X_train, y_train)"
   ]
  },
  {
   "cell_type": "code",
   "execution_count": 37,
   "id": "55b56c3d",
   "metadata": {},
   "outputs": [
    {
     "data": {
      "text/plain": [
       "0.1542720820878512"
      ]
     },
     "execution_count": 37,
     "metadata": {},
     "output_type": "execute_result"
    }
   ],
   "source": [
    "traffic_predictions = tree_reg.predict(X_train)\n",
    "tree_mse = mean_squared_error(y_train, traffic_predictions)\n",
    "tree_rmse = np.sqrt(tree_mse)\n",
    "tree_rmse"
   ]
  },
  {
   "cell_type": "markdown",
   "id": "962d9a60",
   "metadata": {},
   "source": [
    "## Better Evaluation Using Cross-Validation"
   ]
  },
  {
   "cell_type": "code",
   "execution_count": 38,
   "id": "5b353d78",
   "metadata": {},
   "outputs": [],
   "source": [
    "from sklearn.model_selection import cross_val_score\n",
    "scores = cross_val_score(tree_reg, X_train, y_train,\n",
    "scoring=\"neg_mean_squared_error\", cv=10)\n",
    "tree_rmse_scores = np.sqrt(-scores)"
   ]
  },
  {
   "cell_type": "code",
   "execution_count": 39,
   "id": "f8fbff74",
   "metadata": {},
   "outputs": [],
   "source": [
    "def display_scores(scores):\n",
    "    print(\"Scores:\", scores)\n",
    "    print(\"Mean:\", scores.mean())\n",
    "    print(\"Standard deviation:\", scores.std())"
   ]
  },
  {
   "cell_type": "code",
   "execution_count": 40,
   "id": "f5d4b213",
   "metadata": {},
   "outputs": [
    {
     "name": "stdout",
     "output_type": "stream",
     "text": [
      "Scores: [1.80736795 1.87598686 1.90883506 1.01577336 0.99875234 1.09806258\n",
      " 1.19848354 1.11475314 1.04742589 1.24459439]\n",
      "Mean: 1.3310035108768667\n",
      "Standard deviation: 0.3569383932180468\n"
     ]
    }
   ],
   "source": [
    "display_scores(tree_rmse_scores)"
   ]
  },
  {
   "cell_type": "code",
   "execution_count": 41,
   "id": "4bec7179",
   "metadata": {},
   "outputs": [
    {
     "name": "stdout",
     "output_type": "stream",
     "text": [
      "Scores: [0.86654878 0.62263606 0.77271372 0.37613783 0.56563008 0.89663929\n",
      " 1.17911784 0.76525724 0.47106155 1.18360356]\n",
      "Mean: 0.7699345961278439\n",
      "Standard deviation: 0.25919280551357177\n"
     ]
    }
   ],
   "source": [
    "lin_scores = cross_val_score(model, X_train, y_train,\n",
    "    scoring=\"neg_mean_squared_error\", cv=10)\n",
    "lin_rmse_scores = np.sqrt(-lin_scores)\n",
    "display_scores(lin_rmse_scores)"
   ]
  },
  {
   "cell_type": "markdown",
   "id": "8e97e0ba",
   "metadata": {},
   "source": [
    "## Using Random Forest Regressor"
   ]
  },
  {
   "cell_type": "code",
   "execution_count": 42,
   "id": "1be7ce03",
   "metadata": {},
   "outputs": [
    {
     "data": {
      "text/plain": [
       "RandomForestRegressor(n_estimators=10, random_state=42)"
      ]
     },
     "execution_count": 42,
     "metadata": {},
     "output_type": "execute_result"
    }
   ],
   "source": [
    "from sklearn.ensemble import RandomForestRegressor\n",
    "forest_reg = RandomForestRegressor(n_estimators=10, random_state=42)\n",
    "forest_reg.fit(X_train, y_train)"
   ]
  },
  {
   "cell_type": "code",
   "execution_count": 43,
   "id": "826fef56",
   "metadata": {},
   "outputs": [
    {
     "data": {
      "text/plain": [
       "0.23596367277581348"
      ]
     },
     "execution_count": 43,
     "metadata": {},
     "output_type": "execute_result"
    }
   ],
   "source": [
    "traffic_predictions = forest_reg.predict(X_train)\n",
    "forest_mse = mean_squared_error(y_train, traffic_predictions)\n",
    "forest_rmse = np.sqrt(forest_mse)\n",
    "forest_rmse"
   ]
  },
  {
   "cell_type": "code",
   "execution_count": 44,
   "id": "02e276f2",
   "metadata": {},
   "outputs": [
    {
     "name": "stdout",
     "output_type": "stream",
     "text": [
      "Scores: 0.23596367277581348\n",
      "Mean: 0.23596367277581348\n",
      "Standard deviation: 0.0\n"
     ]
    }
   ],
   "source": [
    "display_scores(forest_rmse)"
   ]
  },
  {
   "cell_type": "markdown",
   "id": "46e20c3e",
   "metadata": {},
   "source": [
    "## Fine-tuning my model"
   ]
  },
  {
   "cell_type": "code",
   "execution_count": 45,
   "id": "c69cf1dd",
   "metadata": {},
   "outputs": [],
   "source": [
    "from sklearn.model_selection import GridSearchCV"
   ]
  },
  {
   "cell_type": "code",
   "execution_count": 46,
   "id": "0aceaa58",
   "metadata": {},
   "outputs": [
    {
     "name": "stderr",
     "output_type": "stream",
     "text": [
      "C:\\Users\\ayode\\anaconda3\\lib\\site-packages\\sklearn\\model_selection\\_validation.py:372: FitFailedWarning: \n",
      "30 fits failed out of a total of 90.\n",
      "The score on these train-test partitions for these parameters will be set to nan.\n",
      "If these failures are not expected, you can try to debug them by setting error_score='raise'.\n",
      "\n",
      "Below are more details about the failures:\n",
      "--------------------------------------------------------------------------------\n",
      "30 fits failed with the following error:\n",
      "Traceback (most recent call last):\n",
      "  File \"C:\\Users\\ayode\\anaconda3\\lib\\site-packages\\sklearn\\model_selection\\_validation.py\", line 680, in _fit_and_score\n",
      "    estimator.fit(X_train, y_train, **fit_params)\n",
      "  File \"C:\\Users\\ayode\\anaconda3\\lib\\site-packages\\sklearn\\ensemble\\_forest.py\", line 450, in fit\n",
      "    trees = Parallel(\n",
      "  File \"C:\\Users\\ayode\\anaconda3\\lib\\site-packages\\joblib\\parallel.py\", line 1043, in __call__\n",
      "    if self.dispatch_one_batch(iterator):\n",
      "  File \"C:\\Users\\ayode\\anaconda3\\lib\\site-packages\\joblib\\parallel.py\", line 861, in dispatch_one_batch\n",
      "    self._dispatch(tasks)\n",
      "  File \"C:\\Users\\ayode\\anaconda3\\lib\\site-packages\\joblib\\parallel.py\", line 779, in _dispatch\n",
      "    job = self._backend.apply_async(batch, callback=cb)\n",
      "  File \"C:\\Users\\ayode\\anaconda3\\lib\\site-packages\\joblib\\_parallel_backends.py\", line 208, in apply_async\n",
      "    result = ImmediateResult(func)\n",
      "  File \"C:\\Users\\ayode\\anaconda3\\lib\\site-packages\\joblib\\_parallel_backends.py\", line 572, in __init__\n",
      "    self.results = batch()\n",
      "  File \"C:\\Users\\ayode\\anaconda3\\lib\\site-packages\\joblib\\parallel.py\", line 262, in __call__\n",
      "    return [func(*args, **kwargs)\n",
      "  File \"C:\\Users\\ayode\\anaconda3\\lib\\site-packages\\joblib\\parallel.py\", line 262, in <listcomp>\n",
      "    return [func(*args, **kwargs)\n",
      "  File \"C:\\Users\\ayode\\anaconda3\\lib\\site-packages\\sklearn\\utils\\fixes.py\", line 216, in __call__\n",
      "    return self.function(*args, **kwargs)\n",
      "  File \"C:\\Users\\ayode\\anaconda3\\lib\\site-packages\\sklearn\\ensemble\\_forest.py\", line 185, in _parallel_build_trees\n",
      "    tree.fit(X, y, sample_weight=curr_sample_weight, check_input=False)\n",
      "  File \"C:\\Users\\ayode\\anaconda3\\lib\\site-packages\\sklearn\\tree\\_classes.py\", line 1315, in fit\n",
      "    super().fit(\n",
      "  File \"C:\\Users\\ayode\\anaconda3\\lib\\site-packages\\sklearn\\tree\\_classes.py\", line 308, in fit\n",
      "    raise ValueError(\"max_features must be in (0, n_features]\")\n",
      "ValueError: max_features must be in (0, n_features]\n",
      "\n",
      "  warnings.warn(some_fits_failed_message, FitFailedWarning)\n",
      "C:\\Users\\ayode\\anaconda3\\lib\\site-packages\\sklearn\\model_selection\\_search.py:969: UserWarning: One or more of the test scores are non-finite: [-2.037639   -2.00607552 -2.00227224 -2.06207581 -2.07422141 -2.07886264\n",
      "         nan         nan         nan         nan         nan         nan\n",
      " -1.97989748 -2.0695247  -2.10447306 -2.08543681 -2.11841705 -2.10669126]\n",
      "  warnings.warn(\n",
      "C:\\Users\\ayode\\anaconda3\\lib\\site-packages\\sklearn\\model_selection\\_search.py:969: UserWarning: One or more of the train scores are non-finite: [-0.06198675 -0.04331385 -0.0380269  -0.06114549 -0.04292553 -0.03756787\n",
      "         nan         nan         nan         nan         nan         nan\n",
      " -0.02993505 -0.01835126 -0.01835126 -0.01835126 -0.01835126 -0.01835126]\n",
      "  warnings.warn(\n"
     ]
    },
    {
     "data": {
      "text/plain": [
       "GridSearchCV(cv=5, estimator=RandomForestRegressor(),\n",
       "             param_grid=[{'max_features': [2, 4, 6, 8],\n",
       "                          'n_estimators': [3, 10, 30]},\n",
       "                         {'bootstrap': [False], 'max_features': [2, 3, 4],\n",
       "                          'n_estimators': [3, 10]}],\n",
       "             return_train_score=True, scoring='neg_mean_squared_error')"
      ]
     },
     "execution_count": 46,
     "metadata": {},
     "output_type": "execute_result"
    }
   ],
   "source": [
    "param_grid = [\n",
    "{'n_estimators': [3, 10, 30], 'max_features': [2, 4, 6, 8]},\n",
    "{'bootstrap': [False], 'n_estimators': [3, 10], 'max_features': [2, 3, 4]},\n",
    "]\n",
    "forest_reg = RandomForestRegressor()\n",
    "grid_search = GridSearchCV(forest_reg, param_grid, cv=5,\n",
    "scoring='neg_mean_squared_error',\n",
    "return_train_score=True)\n",
    "grid_search.fit(X_train, y_train)"
   ]
  },
  {
   "cell_type": "code",
   "execution_count": 47,
   "id": "59bdcb41",
   "metadata": {},
   "outputs": [
    {
     "data": {
      "text/plain": [
       "{'max_features': 8, 'n_estimators': 30}"
      ]
     },
     "execution_count": 47,
     "metadata": {},
     "output_type": "execute_result"
    }
   ],
   "source": [
    "grid_search.best_params_\n",
    "{'max_features': 8, 'n_estimators': 30}"
   ]
  },
  {
   "cell_type": "code",
   "execution_count": 48,
   "id": "f29ad57d",
   "metadata": {},
   "outputs": [
    {
     "name": "stdout",
     "output_type": "stream",
     "text": [
      "1.4274589306478147 {'max_features': 2, 'n_estimators': 3}\n",
      "1.4163599554345476 {'max_features': 2, 'n_estimators': 10}\n",
      "1.4150166927082821 {'max_features': 2, 'n_estimators': 30}\n",
      "1.4359929686957758 {'max_features': 4, 'n_estimators': 3}\n",
      "1.4402157520867933 {'max_features': 4, 'n_estimators': 10}\n",
      "1.4418261486165675 {'max_features': 4, 'n_estimators': 30}\n",
      "nan {'max_features': 6, 'n_estimators': 3}\n",
      "nan {'max_features': 6, 'n_estimators': 10}\n",
      "nan {'max_features': 6, 'n_estimators': 30}\n",
      "nan {'max_features': 8, 'n_estimators': 3}\n",
      "nan {'max_features': 8, 'n_estimators': 10}\n",
      "nan {'max_features': 8, 'n_estimators': 30}\n",
      "1.4070882980559207 {'bootstrap': False, 'max_features': 2, 'n_estimators': 3}\n",
      "1.4385842676765335 {'bootstrap': False, 'max_features': 2, 'n_estimators': 10}\n",
      "1.4506802072613478 {'bootstrap': False, 'max_features': 3, 'n_estimators': 3}\n",
      "1.444104153891726 {'bootstrap': False, 'max_features': 3, 'n_estimators': 10}\n",
      "1.4554782887221067 {'bootstrap': False, 'max_features': 4, 'n_estimators': 3}\n",
      "1.4514445438041377 {'bootstrap': False, 'max_features': 4, 'n_estimators': 10}\n"
     ]
    }
   ],
   "source": [
    "cvres = grid_search.cv_results_\n",
    "for mean_score, params in zip(cvres[\"mean_test_score\"], cvres[\"params\"]):\n",
    "   print(np.sqrt(-mean_score), params) "
   ]
  },
  {
   "cell_type": "code",
   "execution_count": 54,
   "id": "763e7270",
   "metadata": {},
   "outputs": [
    {
     "data": {
      "text/html": [
       "<div>\n",
       "<style scoped>\n",
       "    .dataframe tbody tr th:only-of-type {\n",
       "        vertical-align: middle;\n",
       "    }\n",
       "\n",
       "    .dataframe tbody tr th {\n",
       "        vertical-align: top;\n",
       "    }\n",
       "\n",
       "    .dataframe thead th {\n",
       "        text-align: right;\n",
       "    }\n",
       "</style>\n",
       "<table border=\"1\" class=\"dataframe\">\n",
       "  <thead>\n",
       "    <tr style=\"text-align: right;\">\n",
       "      <th></th>\n",
       "      <th>mean_fit_time</th>\n",
       "      <th>std_fit_time</th>\n",
       "      <th>mean_score_time</th>\n",
       "      <th>std_score_time</th>\n",
       "      <th>param_max_features</th>\n",
       "      <th>param_n_estimators</th>\n",
       "      <th>param_bootstrap</th>\n",
       "      <th>params</th>\n",
       "      <th>split0_test_score</th>\n",
       "      <th>split1_test_score</th>\n",
       "      <th>...</th>\n",
       "      <th>mean_test_score</th>\n",
       "      <th>std_test_score</th>\n",
       "      <th>rank_test_score</th>\n",
       "      <th>split0_train_score</th>\n",
       "      <th>split1_train_score</th>\n",
       "      <th>split2_train_score</th>\n",
       "      <th>split3_train_score</th>\n",
       "      <th>split4_train_score</th>\n",
       "      <th>mean_train_score</th>\n",
       "      <th>std_train_score</th>\n",
       "    </tr>\n",
       "  </thead>\n",
       "  <tbody>\n",
       "    <tr>\n",
       "      <th>0</th>\n",
       "      <td>0.061616</td>\n",
       "      <td>0.007130</td>\n",
       "      <td>0.002880</td>\n",
       "      <td>0.000509</td>\n",
       "      <td>2</td>\n",
       "      <td>3</td>\n",
       "      <td>NaN</td>\n",
       "      <td>{'max_features': 2, 'n_estimators': 3}</td>\n",
       "      <td>-3.427732</td>\n",
       "      <td>-1.950181</td>\n",
       "      <td>...</td>\n",
       "      <td>-2.037639</td>\n",
       "      <td>0.847450</td>\n",
       "      <td>4</td>\n",
       "      <td>-0.080307</td>\n",
       "      <td>-0.076140</td>\n",
       "      <td>-0.053191</td>\n",
       "      <td>-0.037885</td>\n",
       "      <td>-0.062412</td>\n",
       "      <td>-0.061987</td>\n",
       "      <td>0.015456</td>\n",
       "    </tr>\n",
       "    <tr>\n",
       "      <th>1</th>\n",
       "      <td>0.195647</td>\n",
       "      <td>0.020274</td>\n",
       "      <td>0.005397</td>\n",
       "      <td>0.001240</td>\n",
       "      <td>2</td>\n",
       "      <td>10</td>\n",
       "      <td>NaN</td>\n",
       "      <td>{'max_features': 2, 'n_estimators': 10}</td>\n",
       "      <td>-3.408458</td>\n",
       "      <td>-1.849999</td>\n",
       "      <td>...</td>\n",
       "      <td>-2.006076</td>\n",
       "      <td>0.848644</td>\n",
       "      <td>3</td>\n",
       "      <td>-0.056444</td>\n",
       "      <td>-0.052866</td>\n",
       "      <td>-0.036986</td>\n",
       "      <td>-0.026111</td>\n",
       "      <td>-0.044163</td>\n",
       "      <td>-0.043314</td>\n",
       "      <td>0.010957</td>\n",
       "    </tr>\n",
       "    <tr>\n",
       "      <th>2</th>\n",
       "      <td>0.546041</td>\n",
       "      <td>0.058202</td>\n",
       "      <td>0.012325</td>\n",
       "      <td>0.001252</td>\n",
       "      <td>2</td>\n",
       "      <td>30</td>\n",
       "      <td>NaN</td>\n",
       "      <td>{'max_features': 2, 'n_estimators': 30}</td>\n",
       "      <td>-3.356297</td>\n",
       "      <td>-1.906259</td>\n",
       "      <td>...</td>\n",
       "      <td>-2.002272</td>\n",
       "      <td>0.830592</td>\n",
       "      <td>2</td>\n",
       "      <td>-0.050033</td>\n",
       "      <td>-0.045903</td>\n",
       "      <td>-0.032077</td>\n",
       "      <td>-0.022916</td>\n",
       "      <td>-0.039206</td>\n",
       "      <td>-0.038027</td>\n",
       "      <td>0.009709</td>\n",
       "    </tr>\n",
       "    <tr>\n",
       "      <th>3</th>\n",
       "      <td>0.092732</td>\n",
       "      <td>0.011099</td>\n",
       "      <td>0.001999</td>\n",
       "      <td>0.000009</td>\n",
       "      <td>4</td>\n",
       "      <td>3</td>\n",
       "      <td>NaN</td>\n",
       "      <td>{'max_features': 4, 'n_estimators': 3}</td>\n",
       "      <td>-3.482993</td>\n",
       "      <td>-2.067643</td>\n",
       "      <td>...</td>\n",
       "      <td>-2.062076</td>\n",
       "      <td>0.850425</td>\n",
       "      <td>5</td>\n",
       "      <td>-0.079147</td>\n",
       "      <td>-0.074987</td>\n",
       "      <td>-0.052671</td>\n",
       "      <td>-0.036250</td>\n",
       "      <td>-0.062672</td>\n",
       "      <td>-0.061145</td>\n",
       "      <td>0.015554</td>\n",
       "    </tr>\n",
       "    <tr>\n",
       "      <th>4</th>\n",
       "      <td>0.294578</td>\n",
       "      <td>0.031142</td>\n",
       "      <td>0.005479</td>\n",
       "      <td>0.000739</td>\n",
       "      <td>4</td>\n",
       "      <td>10</td>\n",
       "      <td>NaN</td>\n",
       "      <td>{'max_features': 4, 'n_estimators': 10}</td>\n",
       "      <td>-3.527416</td>\n",
       "      <td>-2.044354</td>\n",
       "      <td>...</td>\n",
       "      <td>-2.074221</td>\n",
       "      <td>0.873460</td>\n",
       "      <td>7</td>\n",
       "      <td>-0.056192</td>\n",
       "      <td>-0.052340</td>\n",
       "      <td>-0.036318</td>\n",
       "      <td>-0.025787</td>\n",
       "      <td>-0.043991</td>\n",
       "      <td>-0.042926</td>\n",
       "      <td>0.010983</td>\n",
       "    </tr>\n",
       "    <tr>\n",
       "      <th>5</th>\n",
       "      <td>0.860887</td>\n",
       "      <td>0.114457</td>\n",
       "      <td>0.012932</td>\n",
       "      <td>0.001488</td>\n",
       "      <td>4</td>\n",
       "      <td>30</td>\n",
       "      <td>NaN</td>\n",
       "      <td>{'max_features': 4, 'n_estimators': 30}</td>\n",
       "      <td>-3.512334</td>\n",
       "      <td>-2.089061</td>\n",
       "      <td>...</td>\n",
       "      <td>-2.078863</td>\n",
       "      <td>0.871136</td>\n",
       "      <td>8</td>\n",
       "      <td>-0.049532</td>\n",
       "      <td>-0.045903</td>\n",
       "      <td>-0.031724</td>\n",
       "      <td>-0.022234</td>\n",
       "      <td>-0.038446</td>\n",
       "      <td>-0.037568</td>\n",
       "      <td>0.009825</td>\n",
       "    </tr>\n",
       "    <tr>\n",
       "      <th>6</th>\n",
       "      <td>0.005244</td>\n",
       "      <td>0.001124</td>\n",
       "      <td>0.000000</td>\n",
       "      <td>0.000000</td>\n",
       "      <td>6</td>\n",
       "      <td>3</td>\n",
       "      <td>NaN</td>\n",
       "      <td>{'max_features': 6, 'n_estimators': 3}</td>\n",
       "      <td>NaN</td>\n",
       "      <td>NaN</td>\n",
       "      <td>...</td>\n",
       "      <td>NaN</td>\n",
       "      <td>NaN</td>\n",
       "      <td>16</td>\n",
       "      <td>NaN</td>\n",
       "      <td>NaN</td>\n",
       "      <td>NaN</td>\n",
       "      <td>NaN</td>\n",
       "      <td>NaN</td>\n",
       "      <td>NaN</td>\n",
       "      <td>NaN</td>\n",
       "    </tr>\n",
       "    <tr>\n",
       "      <th>7</th>\n",
       "      <td>0.007468</td>\n",
       "      <td>0.000633</td>\n",
       "      <td>0.000000</td>\n",
       "      <td>0.000000</td>\n",
       "      <td>6</td>\n",
       "      <td>10</td>\n",
       "      <td>NaN</td>\n",
       "      <td>{'max_features': 6, 'n_estimators': 10}</td>\n",
       "      <td>NaN</td>\n",
       "      <td>NaN</td>\n",
       "      <td>...</td>\n",
       "      <td>NaN</td>\n",
       "      <td>NaN</td>\n",
       "      <td>15</td>\n",
       "      <td>NaN</td>\n",
       "      <td>NaN</td>\n",
       "      <td>NaN</td>\n",
       "      <td>NaN</td>\n",
       "      <td>NaN</td>\n",
       "      <td>NaN</td>\n",
       "      <td>NaN</td>\n",
       "    </tr>\n",
       "    <tr>\n",
       "      <th>8</th>\n",
       "      <td>0.012050</td>\n",
       "      <td>0.000827</td>\n",
       "      <td>0.000000</td>\n",
       "      <td>0.000000</td>\n",
       "      <td>6</td>\n",
       "      <td>30</td>\n",
       "      <td>NaN</td>\n",
       "      <td>{'max_features': 6, 'n_estimators': 30}</td>\n",
       "      <td>NaN</td>\n",
       "      <td>NaN</td>\n",
       "      <td>...</td>\n",
       "      <td>NaN</td>\n",
       "      <td>NaN</td>\n",
       "      <td>18</td>\n",
       "      <td>NaN</td>\n",
       "      <td>NaN</td>\n",
       "      <td>NaN</td>\n",
       "      <td>NaN</td>\n",
       "      <td>NaN</td>\n",
       "      <td>NaN</td>\n",
       "      <td>NaN</td>\n",
       "    </tr>\n",
       "    <tr>\n",
       "      <th>9</th>\n",
       "      <td>0.005771</td>\n",
       "      <td>0.000236</td>\n",
       "      <td>0.000000</td>\n",
       "      <td>0.000000</td>\n",
       "      <td>8</td>\n",
       "      <td>3</td>\n",
       "      <td>NaN</td>\n",
       "      <td>{'max_features': 8, 'n_estimators': 3}</td>\n",
       "      <td>NaN</td>\n",
       "      <td>NaN</td>\n",
       "      <td>...</td>\n",
       "      <td>NaN</td>\n",
       "      <td>NaN</td>\n",
       "      <td>14</td>\n",
       "      <td>NaN</td>\n",
       "      <td>NaN</td>\n",
       "      <td>NaN</td>\n",
       "      <td>NaN</td>\n",
       "      <td>NaN</td>\n",
       "      <td>NaN</td>\n",
       "      <td>NaN</td>\n",
       "    </tr>\n",
       "    <tr>\n",
       "      <th>10</th>\n",
       "      <td>0.007221</td>\n",
       "      <td>0.000112</td>\n",
       "      <td>0.000000</td>\n",
       "      <td>0.000000</td>\n",
       "      <td>8</td>\n",
       "      <td>10</td>\n",
       "      <td>NaN</td>\n",
       "      <td>{'max_features': 8, 'n_estimators': 10}</td>\n",
       "      <td>NaN</td>\n",
       "      <td>NaN</td>\n",
       "      <td>...</td>\n",
       "      <td>NaN</td>\n",
       "      <td>NaN</td>\n",
       "      <td>17</td>\n",
       "      <td>NaN</td>\n",
       "      <td>NaN</td>\n",
       "      <td>NaN</td>\n",
       "      <td>NaN</td>\n",
       "      <td>NaN</td>\n",
       "      <td>NaN</td>\n",
       "      <td>NaN</td>\n",
       "    </tr>\n",
       "    <tr>\n",
       "      <th>11</th>\n",
       "      <td>0.012127</td>\n",
       "      <td>0.000469</td>\n",
       "      <td>0.000000</td>\n",
       "      <td>0.000000</td>\n",
       "      <td>8</td>\n",
       "      <td>30</td>\n",
       "      <td>NaN</td>\n",
       "      <td>{'max_features': 8, 'n_estimators': 30}</td>\n",
       "      <td>NaN</td>\n",
       "      <td>NaN</td>\n",
       "      <td>...</td>\n",
       "      <td>NaN</td>\n",
       "      <td>NaN</td>\n",
       "      <td>13</td>\n",
       "      <td>NaN</td>\n",
       "      <td>NaN</td>\n",
       "      <td>NaN</td>\n",
       "      <td>NaN</td>\n",
       "      <td>NaN</td>\n",
       "      <td>NaN</td>\n",
       "      <td>NaN</td>\n",
       "    </tr>\n",
       "    <tr>\n",
       "      <th>12</th>\n",
       "      <td>0.079445</td>\n",
       "      <td>0.012799</td>\n",
       "      <td>0.003336</td>\n",
       "      <td>0.001054</td>\n",
       "      <td>2</td>\n",
       "      <td>3</td>\n",
       "      <td>False</td>\n",
       "      <td>{'bootstrap': False, 'max_features': 2, 'n_est...</td>\n",
       "      <td>-3.442810</td>\n",
       "      <td>-1.965930</td>\n",
       "      <td>...</td>\n",
       "      <td>-1.979897</td>\n",
       "      <td>0.928995</td>\n",
       "      <td>1</td>\n",
       "      <td>-0.026594</td>\n",
       "      <td>-0.021494</td>\n",
       "      <td>-0.071929</td>\n",
       "      <td>-0.010395</td>\n",
       "      <td>-0.019264</td>\n",
       "      <td>-0.029935</td>\n",
       "      <td>0.021641</td>\n",
       "    </tr>\n",
       "    <tr>\n",
       "      <th>13</th>\n",
       "      <td>0.266972</td>\n",
       "      <td>0.033057</td>\n",
       "      <td>0.005614</td>\n",
       "      <td>0.000873</td>\n",
       "      <td>2</td>\n",
       "      <td>10</td>\n",
       "      <td>False</td>\n",
       "      <td>{'bootstrap': False, 'max_features': 2, 'n_est...</td>\n",
       "      <td>-3.447799</td>\n",
       "      <td>-2.103656</td>\n",
       "      <td>...</td>\n",
       "      <td>-2.069525</td>\n",
       "      <td>0.850754</td>\n",
       "      <td>6</td>\n",
       "      <td>-0.026594</td>\n",
       "      <td>-0.021494</td>\n",
       "      <td>-0.014010</td>\n",
       "      <td>-0.010395</td>\n",
       "      <td>-0.019264</td>\n",
       "      <td>-0.018351</td>\n",
       "      <td>0.005671</td>\n",
       "    </tr>\n",
       "    <tr>\n",
       "      <th>14</th>\n",
       "      <td>0.105981</td>\n",
       "      <td>0.012225</td>\n",
       "      <td>0.002341</td>\n",
       "      <td>0.000424</td>\n",
       "      <td>3</td>\n",
       "      <td>3</td>\n",
       "      <td>False</td>\n",
       "      <td>{'bootstrap': False, 'max_features': 3, 'n_est...</td>\n",
       "      <td>-3.488878</td>\n",
       "      <td>-2.214856</td>\n",
       "      <td>...</td>\n",
       "      <td>-2.104473</td>\n",
       "      <td>0.859618</td>\n",
       "      <td>10</td>\n",
       "      <td>-0.026594</td>\n",
       "      <td>-0.021494</td>\n",
       "      <td>-0.014010</td>\n",
       "      <td>-0.010395</td>\n",
       "      <td>-0.019264</td>\n",
       "      <td>-0.018351</td>\n",
       "      <td>0.005671</td>\n",
       "    </tr>\n",
       "    <tr>\n",
       "      <th>15</th>\n",
       "      <td>0.344141</td>\n",
       "      <td>0.036268</td>\n",
       "      <td>0.005156</td>\n",
       "      <td>0.000994</td>\n",
       "      <td>3</td>\n",
       "      <td>10</td>\n",
       "      <td>False</td>\n",
       "      <td>{'bootstrap': False, 'max_features': 3, 'n_est...</td>\n",
       "      <td>-3.506142</td>\n",
       "      <td>-2.108926</td>\n",
       "      <td>...</td>\n",
       "      <td>-2.085437</td>\n",
       "      <td>0.865079</td>\n",
       "      <td>9</td>\n",
       "      <td>-0.026594</td>\n",
       "      <td>-0.021494</td>\n",
       "      <td>-0.014010</td>\n",
       "      <td>-0.010395</td>\n",
       "      <td>-0.019264</td>\n",
       "      <td>-0.018351</td>\n",
       "      <td>0.005671</td>\n",
       "    </tr>\n",
       "    <tr>\n",
       "      <th>16</th>\n",
       "      <td>0.133708</td>\n",
       "      <td>0.013539</td>\n",
       "      <td>0.003073</td>\n",
       "      <td>0.000247</td>\n",
       "      <td>4</td>\n",
       "      <td>3</td>\n",
       "      <td>False</td>\n",
       "      <td>{'bootstrap': False, 'max_features': 4, 'n_est...</td>\n",
       "      <td>-3.606018</td>\n",
       "      <td>-2.151923</td>\n",
       "      <td>...</td>\n",
       "      <td>-2.118417</td>\n",
       "      <td>0.891498</td>\n",
       "      <td>12</td>\n",
       "      <td>-0.026594</td>\n",
       "      <td>-0.021494</td>\n",
       "      <td>-0.014010</td>\n",
       "      <td>-0.010395</td>\n",
       "      <td>-0.019264</td>\n",
       "      <td>-0.018351</td>\n",
       "      <td>0.005671</td>\n",
       "    </tr>\n",
       "    <tr>\n",
       "      <th>17</th>\n",
       "      <td>0.428842</td>\n",
       "      <td>0.045291</td>\n",
       "      <td>0.005437</td>\n",
       "      <td>0.001074</td>\n",
       "      <td>4</td>\n",
       "      <td>10</td>\n",
       "      <td>False</td>\n",
       "      <td>{'bootstrap': False, 'max_features': 4, 'n_est...</td>\n",
       "      <td>-3.530890</td>\n",
       "      <td>-2.173928</td>\n",
       "      <td>...</td>\n",
       "      <td>-2.106691</td>\n",
       "      <td>0.867796</td>\n",
       "      <td>11</td>\n",
       "      <td>-0.026594</td>\n",
       "      <td>-0.021494</td>\n",
       "      <td>-0.014010</td>\n",
       "      <td>-0.010395</td>\n",
       "      <td>-0.019264</td>\n",
       "      <td>-0.018351</td>\n",
       "      <td>0.005671</td>\n",
       "    </tr>\n",
       "  </tbody>\n",
       "</table>\n",
       "<p>18 rows × 23 columns</p>\n",
       "</div>"
      ],
      "text/plain": [
       "    mean_fit_time  std_fit_time  mean_score_time  std_score_time  \\\n",
       "0        0.061616      0.007130         0.002880        0.000509   \n",
       "1        0.195647      0.020274         0.005397        0.001240   \n",
       "2        0.546041      0.058202         0.012325        0.001252   \n",
       "3        0.092732      0.011099         0.001999        0.000009   \n",
       "4        0.294578      0.031142         0.005479        0.000739   \n",
       "5        0.860887      0.114457         0.012932        0.001488   \n",
       "6        0.005244      0.001124         0.000000        0.000000   \n",
       "7        0.007468      0.000633         0.000000        0.000000   \n",
       "8        0.012050      0.000827         0.000000        0.000000   \n",
       "9        0.005771      0.000236         0.000000        0.000000   \n",
       "10       0.007221      0.000112         0.000000        0.000000   \n",
       "11       0.012127      0.000469         0.000000        0.000000   \n",
       "12       0.079445      0.012799         0.003336        0.001054   \n",
       "13       0.266972      0.033057         0.005614        0.000873   \n",
       "14       0.105981      0.012225         0.002341        0.000424   \n",
       "15       0.344141      0.036268         0.005156        0.000994   \n",
       "16       0.133708      0.013539         0.003073        0.000247   \n",
       "17       0.428842      0.045291         0.005437        0.001074   \n",
       "\n",
       "   param_max_features param_n_estimators param_bootstrap  \\\n",
       "0                   2                  3             NaN   \n",
       "1                   2                 10             NaN   \n",
       "2                   2                 30             NaN   \n",
       "3                   4                  3             NaN   \n",
       "4                   4                 10             NaN   \n",
       "5                   4                 30             NaN   \n",
       "6                   6                  3             NaN   \n",
       "7                   6                 10             NaN   \n",
       "8                   6                 30             NaN   \n",
       "9                   8                  3             NaN   \n",
       "10                  8                 10             NaN   \n",
       "11                  8                 30             NaN   \n",
       "12                  2                  3           False   \n",
       "13                  2                 10           False   \n",
       "14                  3                  3           False   \n",
       "15                  3                 10           False   \n",
       "16                  4                  3           False   \n",
       "17                  4                 10           False   \n",
       "\n",
       "                                               params  split0_test_score  \\\n",
       "0              {'max_features': 2, 'n_estimators': 3}          -3.427732   \n",
       "1             {'max_features': 2, 'n_estimators': 10}          -3.408458   \n",
       "2             {'max_features': 2, 'n_estimators': 30}          -3.356297   \n",
       "3              {'max_features': 4, 'n_estimators': 3}          -3.482993   \n",
       "4             {'max_features': 4, 'n_estimators': 10}          -3.527416   \n",
       "5             {'max_features': 4, 'n_estimators': 30}          -3.512334   \n",
       "6              {'max_features': 6, 'n_estimators': 3}                NaN   \n",
       "7             {'max_features': 6, 'n_estimators': 10}                NaN   \n",
       "8             {'max_features': 6, 'n_estimators': 30}                NaN   \n",
       "9              {'max_features': 8, 'n_estimators': 3}                NaN   \n",
       "10            {'max_features': 8, 'n_estimators': 10}                NaN   \n",
       "11            {'max_features': 8, 'n_estimators': 30}                NaN   \n",
       "12  {'bootstrap': False, 'max_features': 2, 'n_est...          -3.442810   \n",
       "13  {'bootstrap': False, 'max_features': 2, 'n_est...          -3.447799   \n",
       "14  {'bootstrap': False, 'max_features': 3, 'n_est...          -3.488878   \n",
       "15  {'bootstrap': False, 'max_features': 3, 'n_est...          -3.506142   \n",
       "16  {'bootstrap': False, 'max_features': 4, 'n_est...          -3.606018   \n",
       "17  {'bootstrap': False, 'max_features': 4, 'n_est...          -3.530890   \n",
       "\n",
       "    split1_test_score  ...  mean_test_score  std_test_score  rank_test_score  \\\n",
       "0           -1.950181  ...        -2.037639        0.847450                4   \n",
       "1           -1.849999  ...        -2.006076        0.848644                3   \n",
       "2           -1.906259  ...        -2.002272        0.830592                2   \n",
       "3           -2.067643  ...        -2.062076        0.850425                5   \n",
       "4           -2.044354  ...        -2.074221        0.873460                7   \n",
       "5           -2.089061  ...        -2.078863        0.871136                8   \n",
       "6                 NaN  ...              NaN             NaN               16   \n",
       "7                 NaN  ...              NaN             NaN               15   \n",
       "8                 NaN  ...              NaN             NaN               18   \n",
       "9                 NaN  ...              NaN             NaN               14   \n",
       "10                NaN  ...              NaN             NaN               17   \n",
       "11                NaN  ...              NaN             NaN               13   \n",
       "12          -1.965930  ...        -1.979897        0.928995                1   \n",
       "13          -2.103656  ...        -2.069525        0.850754                6   \n",
       "14          -2.214856  ...        -2.104473        0.859618               10   \n",
       "15          -2.108926  ...        -2.085437        0.865079                9   \n",
       "16          -2.151923  ...        -2.118417        0.891498               12   \n",
       "17          -2.173928  ...        -2.106691        0.867796               11   \n",
       "\n",
       "    split0_train_score  split1_train_score  split2_train_score  \\\n",
       "0            -0.080307           -0.076140           -0.053191   \n",
       "1            -0.056444           -0.052866           -0.036986   \n",
       "2            -0.050033           -0.045903           -0.032077   \n",
       "3            -0.079147           -0.074987           -0.052671   \n",
       "4            -0.056192           -0.052340           -0.036318   \n",
       "5            -0.049532           -0.045903           -0.031724   \n",
       "6                  NaN                 NaN                 NaN   \n",
       "7                  NaN                 NaN                 NaN   \n",
       "8                  NaN                 NaN                 NaN   \n",
       "9                  NaN                 NaN                 NaN   \n",
       "10                 NaN                 NaN                 NaN   \n",
       "11                 NaN                 NaN                 NaN   \n",
       "12           -0.026594           -0.021494           -0.071929   \n",
       "13           -0.026594           -0.021494           -0.014010   \n",
       "14           -0.026594           -0.021494           -0.014010   \n",
       "15           -0.026594           -0.021494           -0.014010   \n",
       "16           -0.026594           -0.021494           -0.014010   \n",
       "17           -0.026594           -0.021494           -0.014010   \n",
       "\n",
       "    split3_train_score  split4_train_score  mean_train_score  std_train_score  \n",
       "0            -0.037885           -0.062412         -0.061987         0.015456  \n",
       "1            -0.026111           -0.044163         -0.043314         0.010957  \n",
       "2            -0.022916           -0.039206         -0.038027         0.009709  \n",
       "3            -0.036250           -0.062672         -0.061145         0.015554  \n",
       "4            -0.025787           -0.043991         -0.042926         0.010983  \n",
       "5            -0.022234           -0.038446         -0.037568         0.009825  \n",
       "6                  NaN                 NaN               NaN              NaN  \n",
       "7                  NaN                 NaN               NaN              NaN  \n",
       "8                  NaN                 NaN               NaN              NaN  \n",
       "9                  NaN                 NaN               NaN              NaN  \n",
       "10                 NaN                 NaN               NaN              NaN  \n",
       "11                 NaN                 NaN               NaN              NaN  \n",
       "12           -0.010395           -0.019264         -0.029935         0.021641  \n",
       "13           -0.010395           -0.019264         -0.018351         0.005671  \n",
       "14           -0.010395           -0.019264         -0.018351         0.005671  \n",
       "15           -0.010395           -0.019264         -0.018351         0.005671  \n",
       "16           -0.010395           -0.019264         -0.018351         0.005671  \n",
       "17           -0.010395           -0.019264         -0.018351         0.005671  \n",
       "\n",
       "[18 rows x 23 columns]"
      ]
     },
     "execution_count": 54,
     "metadata": {},
     "output_type": "execute_result"
    }
   ],
   "source": [
    "pd.DataFrame(grid_search.cv_results_)"
   ]
  },
  {
   "cell_type": "markdown",
   "id": "af00fdac",
   "metadata": {},
   "source": [
    "## Analyzing the best models and their errors"
   ]
  },
  {
   "cell_type": "code",
   "execution_count": 49,
   "id": "b7649536",
   "metadata": {},
   "outputs": [
    {
     "data": {
      "text/plain": [
       "array([0.64558128, 0.18437686, 0.02997367, 0.01613853, 0.12392966])"
      ]
     },
     "execution_count": 49,
     "metadata": {},
     "output_type": "execute_result"
    }
   ],
   "source": [
    "feature_importances = grid_search.best_estimator_.feature_importances_\n",
    "feature_importances"
   ]
  },
  {
   "cell_type": "markdown",
   "id": "6369389a",
   "metadata": {},
   "source": [
    "## Evaluating my system on the Test set"
   ]
  },
  {
   "cell_type": "code",
   "execution_count": 50,
   "id": "50d3f0c6",
   "metadata": {},
   "outputs": [],
   "source": [
    "X_test = test_set.drop(\"Junction\", axis= 1)\n",
    "y_test = test_set[\"Junction\"]"
   ]
  },
  {
   "cell_type": "code",
   "execution_count": 68,
   "id": "ebb151e1",
   "metadata": {},
   "outputs": [
    {
     "name": "stdout",
     "output_type": "stream",
     "text": [
      "0.023253498198947075\n"
     ]
    }
   ],
   "source": [
    "final_model = grid_search.best_estimator_\n",
    "\n",
    "X_test = test_set.drop(\"Junction\", axis=1)\n",
    "y_test = test_set[\"Junction\"].copy()\n",
    "\n",
    "final_predictions = final_model.predict(X_test)\n",
    "\n",
    "final_mse = mean_squared_error(y_test, final_predictions)\n",
    "final_rmse = np.sqrt(final_mse)\n",
    "\n",
    "print(final_mse)"
   ]
  },
  {
   "cell_type": "code",
   "execution_count": 70,
   "id": "42932b01",
   "metadata": {},
   "outputs": [
    {
     "data": {
      "text/plain": [
       "0.15249097743455864"
      ]
     },
     "execution_count": 70,
     "metadata": {},
     "output_type": "execute_result"
    }
   ],
   "source": [
    "final_rmse"
   ]
  },
  {
   "cell_type": "markdown",
   "id": "a6d98679",
   "metadata": {},
   "source": [
    "We can compute a 95% confidence interval for the test RMSE"
   ]
  },
  {
   "cell_type": "code",
   "execution_count": 72,
   "id": "81ef18a3",
   "metadata": {},
   "outputs": [
    {
     "data": {
      "text/plain": [
       "array([0.1462231, 0.1585112])"
      ]
     },
     "execution_count": 72,
     "metadata": {},
     "output_type": "execute_result"
    }
   ],
   "source": [
    "from scipy import stats\n",
    "confidence = 0.95\n",
    "squared_errors = (final_predictions - y_test) ** 2\n",
    "mean = squared_errors.mean()\n",
    "m = len(squared_errors)\n",
    "\n",
    "np.sqrt(stats.t.interval(confidence, len(squared_errors) - 1, \n",
    "                         loc=squared_errors.mean(),\n",
    "                         scale=stats.sem(squared_errors)))"
   ]
  },
  {
   "cell_type": "markdown",
   "id": "3dcea667",
   "metadata": {},
   "source": [
    "I computed the interval manually like this:"
   ]
  },
  {
   "cell_type": "code",
   "execution_count": 73,
   "id": "3ab1cf21",
   "metadata": {},
   "outputs": [
    {
     "data": {
      "text/plain": [
       "(0.14622310488818438, 0.15851119832602764)"
      ]
     },
     "execution_count": 73,
     "metadata": {},
     "output_type": "execute_result"
    }
   ],
   "source": [
    "tscore = stats.t.ppf((1 + confidence) / 2, df=m - 1)\n",
    "tmargin = tscore * squared_errors.std(ddof=1) / np.sqrt(m)\n",
    "np.sqrt(mean - tmargin), np.sqrt(mean + tmargin)"
   ]
  },
  {
   "cell_type": "markdown",
   "id": "87cc9478",
   "metadata": {},
   "source": [
    "Alternatively, I used a z-scores rather than t-scores:"
   ]
  },
  {
   "cell_type": "code",
   "execution_count": 75,
   "id": "50735687",
   "metadata": {},
   "outputs": [
    {
     "data": {
      "text/plain": [
       "(0.14622391014330618, 0.1585104554920481)"
      ]
     },
     "execution_count": 75,
     "metadata": {},
     "output_type": "execute_result"
    }
   ],
   "source": [
    "zscore = stats.norm.ppf((1 + confidence) / 2)\n",
    "zmargin = zscore * squared_errors.std(ddof=1) / np.sqrt(m)\n",
    "np.sqrt(mean - zmargin), np.sqrt(mean + zmargin)"
   ]
  },
  {
   "cell_type": "code",
   "execution_count": null,
   "id": "d26f63c1",
   "metadata": {},
   "outputs": [],
   "source": []
  }
 ],
 "metadata": {
  "kernelspec": {
   "display_name": "Python 3 (ipykernel)",
   "language": "python",
   "name": "python3"
  },
  "language_info": {
   "codemirror_mode": {
    "name": "ipython",
    "version": 3
   },
   "file_extension": ".py",
   "mimetype": "text/x-python",
   "name": "python",
   "nbconvert_exporter": "python",
   "pygments_lexer": "ipython3",
   "version": "3.9.12"
  }
 },
 "nbformat": 4,
 "nbformat_minor": 5
}
